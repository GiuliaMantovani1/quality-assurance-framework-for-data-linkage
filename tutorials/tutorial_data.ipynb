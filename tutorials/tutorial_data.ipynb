{
 "cells": [
  {
   "cell_type": "code",
   "execution_count": 6,
   "metadata": {},
   "outputs": [],
   "source": [
    "import pandas as pd\n",
    "import numpy as np"
   ]
  },
  {
   "cell_type": "markdown",
   "metadata": {},
   "source": [
    "##### test_df_1\n",
    "\n",
    "This first DF contains the same chance of an admitted patient for both matched and unmatched data"
   ]
  },
  {
   "cell_type": "code",
   "execution_count": 7,
   "metadata": {},
   "outputs": [
    {
     "name": "stdout",
     "output_type": "stream",
     "text": [
      "   Matched  Admitted\n",
      "0     True     False\n",
      "1     True     False\n",
      "2     True      True\n",
      "3     True     False\n",
      "4     True      True\n"
     ]
    }
   ],
   "source": [
    "#### Define probability for 'Matched' and 'Admitted'\n",
    "\n",
    "prob_matched = 0.97  # 97% chance of being matched\n",
    "prob_admitted = 0.61  # 61% chance of being admitted\n",
    "\n",
    "#### Create random boolean lists\n",
    "matched = np.random.rand(10000) < prob_matched\n",
    "admitted = np.random.rand(10000) < prob_admitted\n",
    "\n",
    "#### Create a DataFrame\n",
    "test_df_1 = pd.DataFrame({'Matched': matched, 'Admitted': admitted})\n"
   ]
  },
  {
   "cell_type": "markdown",
   "metadata": {},
   "source": [
    "#### test_df_2\n",
    "\n",
    "This contains more 'realistic' data, where the average age differs for matched vs unmatched data\n",
    "\n",
    "In this instance, 97% of the records match, but as the representative populations differ in each sample so does the admission rate. This means excluding unmatched records from your analysis will result in bias."
   ]
  },
  {
   "cell_type": "code",
   "execution_count": 8,
   "metadata": {},
   "outputs": [
    {
     "name": "stdout",
     "output_type": "stream",
     "text": [
      "   Age  Admitted  Matched\n",
      "0   46     False    False\n",
      "1   51     False    False\n",
      "2   45     False    False\n",
      "3   45     False    False\n",
      "4    7      True    False\n"
     ]
    }
   ],
   "source": [
    "#### Unmatched data\n",
    "\n",
    "# Define the size of the DataFrame (number of rows)\n",
    "size = 300  # Adjust this as needed\n",
    "\n",
    "# Generate random integers from 1 to 60 (inclusive)\n",
    "age_data = np.random.randint(1, 61, size=size)\n",
    "\n",
    "# Probability of being admitted\n",
    "prob_admitted = 0.3  # 30% chance of being admitted\n",
    "\n",
    "#### Create random boolean lists\n",
    "admitted = np.random.rand(size) < prob_admitted\n",
    "\n",
    "#### Create a DataFrame\n",
    "unmatched_data_linkage_df = pd.DataFrame({'Age': age_data, 'Admitted': admitted})\n",
    "unmatched_data_linkage_df['Matched'] = False\n"
   ]
  },
  {
   "cell_type": "code",
   "execution_count": 9,
   "metadata": {},
   "outputs": [
    {
     "name": "stdout",
     "output_type": "stream",
     "text": [
      "   Age  Admitted  Matched\n",
      "0   32      True     True\n",
      "1   11      True     True\n",
      "2   60      True     True\n",
      "3   49     False     True\n",
      "4   25     False     True\n"
     ]
    }
   ],
   "source": [
    "#### Matched data\n",
    "\n",
    "# Define the size of the DataFrame (number of rows)\n",
    "size = 9700  # Adjust this as needed\n",
    "\n",
    "# Generate random integers from 1 to 60 (inclusive)\n",
    "matched_age_data = np.random.randint(1, 90, size=size)\n",
    "\n",
    "# Probability of being admitted\n",
    "prob_admitted = 0.61  # 61% chance of being admitted\n",
    "\n",
    "#### Create random boolean lists\n",
    "admitted = np.random.rand(size) < prob_admitted\n",
    "\n",
    "#### Create a DataFrame\n",
    "matched_data_linkage_df = pd.DataFrame({'Age': matched_age_data, 'Admitted': admitted})\n",
    "matched_data_linkage_df['Matched'] = True\n"
   ]
  },
  {
   "cell_type": "code",
   "execution_count": 10,
   "metadata": {},
   "outputs": [
    {
     "name": "stdout",
     "output_type": "stream",
     "text": [
      "      Age  Admitted  Matched\n",
      "0      46     False    False\n",
      "1      51     False    False\n",
      "2      45     False    False\n",
      "3      45     False    False\n",
      "4       7      True    False\n",
      "...   ...       ...      ...\n",
      "9995   23      True     True\n",
      "9996   12      True     True\n",
      "9997   67     False     True\n",
      "9998   10      True     True\n",
      "9999   83      True     True\n",
      "\n",
      "[10000 rows x 3 columns]\n"
     ]
    }
   ],
   "source": [
    "test_df_2 = pd.concat([unmatched_data_linkage_df, matched_data_linkage_df], ignore_index=True)"
   ]
  }
 ],
 "metadata": {
  "kernelspec": {
   "display_name": ".venv",
   "language": "python",
   "name": "python3"
  },
  "language_info": {
   "codemirror_mode": {
    "name": "ipython",
    "version": 3
   },
   "file_extension": ".py",
   "mimetype": "text/x-python",
   "name": "python",
   "nbconvert_exporter": "python",
   "pygments_lexer": "ipython3",
   "version": "3.9.7"
  }
 },
 "nbformat": 4,
 "nbformat_minor": 2
}
